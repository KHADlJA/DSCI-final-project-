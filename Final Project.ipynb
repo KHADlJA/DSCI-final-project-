{
 "cells": [
  {
   "cell_type": "markdown",
   "id": "14fe4fcd-f65c-4edb-8a3e-e2c769118b39",
   "metadata": {},
   "source": [
    "Optimizing Dry Bean Sorting into Classes using Classification with K-nearest neighbors"
   ]
  },
  {
   "cell_type": "markdown",
   "id": "3273a58c-b90d-493b-80cd-271a64b4139a",
   "metadata": {},
   "source": [
    "Introduction:"
   ]
  },
  {
   "cell_type": "markdown",
   "id": "917a9ea1-6f60-4c6f-84be-4e1a06f6834b",
   "metadata": {},
   "source": [
    "Checklist!\n",
    "1. provide some relevant background information on the topic so that someone unfamiliar with it will be prepared to understand the rest of your report\n",
    "2. clearly state the question you tried to answer with your project\n",
    "3. identify and describe the dataset that was used to answer the question"
   ]
  }
 ],
 "metadata": {
  "kernelspec": {
   "display_name": "R",
   "language": "R",
   "name": "ir"
  },
  "language_info": {
   "codemirror_mode": "r",
   "file_extension": ".r",
   "mimetype": "text/x-r-source",
   "name": "R",
   "pygments_lexer": "r",
   "version": "4.1.3"
  }
 },
 "nbformat": 4,
 "nbformat_minor": 5
}

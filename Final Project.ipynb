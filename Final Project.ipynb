{
 "cells": [
  {
   "cell_type": "markdown",
   "id": "14fe4fcd-f65c-4edb-8a3e-e2c769118b39",
   "metadata": {},
   "source": [
    "Optimizing Dry Bean Sorting into Classes using Classification with K-nearest neighbors"
   ]
  },
  {
   "cell_type": "markdown",
   "id": "3273a58c-b90d-493b-80cd-271a64b4139a",
   "metadata": {},
   "source": [
    "Introduction:"
   ]
  },
  {
   "cell_type": "markdown",
   "id": "917a9ea1-6f60-4c6f-84be-4e1a06f6834b",
   "metadata": {},
   "source": [
    "Checklist\n",
    "1. provide some relevant background information on the topic so that someone unfamiliar with it will be prepared to understand the rest of your report\n",
    "2. clearly state the question you tried to answer with your project\n",
    "3. identify and describe the dataset that was used to answer the question"
   ]
  },
  {
   "cell_type": "markdown",
   "id": "39f74f70-cc5a-4610-ba29-d02687743a4e",
   "metadata": {},
   "source": [
    "Methods & Results:"
   ]
  },
  {
   "cell_type": "markdown",
   "id": "bf96d289-a74f-4945-94c3-4a3f92df2b63",
   "metadata": {},
   "source": [
    "Checklist\n",
    "1. loads data from the original source on the web \n",
    "2. wrangles and cleans the data from it's original (downloaded) format to the format necessary for the planned analysis\n",
    "3. performs a summary of the data set that is relevant for exploratory data analysis related to the planned analysis \n",
    "4. creates a visualization of the dataset that is relevant for exploratory data analysis related to the planned analysis\n",
    "5. performs the data analysis\n",
    "6. creates a visualization of the analysis \n",
    "7. note: all tables and figure should have a figure/table number and a legend"
   ]
  },
  {
   "cell_type": "markdown",
   "id": "c739c273-bbb3-4723-bc7f-7a7be084ca2b",
   "metadata": {},
   "source": [
    "Discussion:"
   ]
  },
  {
   "cell_type": "code",
   "execution_count": null,
   "id": "c332a144-d65f-47d3-80a9-1f13b2257b7f",
   "metadata": {},
   "outputs": [],
   "source": [
    "Checklist \n",
    "1. "
   ]
  },
  {
   "cell_type": "markdown",
   "id": "a84caf38-4a21-4c37-bc0f-f443ff3617a2",
   "metadata": {},
   "source": [
    "References"
   ]
  }
 ],
 "metadata": {
  "kernelspec": {
   "display_name": "R",
   "language": "R",
   "name": "ir"
  },
  "language_info": {
   "codemirror_mode": "r",
   "file_extension": ".r",
   "mimetype": "text/x-r-source",
   "name": "R",
   "pygments_lexer": "r",
   "version": "4.1.3"
  }
 },
 "nbformat": 4,
 "nbformat_minor": 5
}
